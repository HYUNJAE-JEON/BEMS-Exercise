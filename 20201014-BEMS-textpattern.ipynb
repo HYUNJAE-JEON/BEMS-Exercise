{
 "cells": [
  {
   "cell_type": "code",
   "execution_count": 1,
   "metadata": {},
   "outputs": [],
   "source": [
    "# import re\n",
    "# from sys import stdin\n",
    "# pat = re.compile(r'[-\\w][-,\\w]*@[-\\w][-\\w.]+[a-zA-Z]{2,4}')\n",
    "# found = set()\n",
    "# for line in stdin.readlines():\n",
    "#     for address in pat.findall(line):\n",
    "#         found.add(address)\n",
    "# for address in sorted(found):    \n",
    "#     print(address)\n",
    "        \n"
   ]
  },
  {
   "cell_type": "code",
   "execution_count": 2,
   "metadata": {},
   "outputs": [
    {
     "name": "stdout",
     "output_type": "stream",
     "text": [
      "park 990312-*******\n",
      "          jeon 950617-*******\n"
     ]
    }
   ],
   "source": [
    "import re\n",
    "data = \"\"\"park 990312-2222345\n",
    "          jeon 950617-1102234\"\"\"\n",
    "pat = re.compile(\"(\\d{6})[-]\\d{7}\")\n",
    "print(pat.sub(\"\\g<1>-*******\", data))"
   ]
  },
  {
   "cell_type": "code",
   "execution_count": 3,
   "metadata": {},
   "outputs": [
    {
     "name": "stdout",
     "output_type": "stream",
     "text": [
      "<re.Match object; span=(0, 3), match='a\\nb'>\n"
     ]
    }
   ],
   "source": [
    "p = re.compile('a.b', re.DOTALL)\n",
    "m = p.match('a\\nb')\n",
    "print(m)\n",
    "\n",
    "#DOTALL 은 의미상에 같으면 매치시켜주라 이 뜻이다."
   ]
  },
  {
   "cell_type": "code",
   "execution_count": 4,
   "metadata": {},
   "outputs": [],
   "source": [
    "import re\n",
    "from sys import stdin\n",
    "pat1 = re.compile(r'01[0-9][-]\\d{4}[-]\\d{4}')\n",
    "found = set()\n",
    "for line in stdin.readlines():\n",
    "    for address in pat1.findall(line):\n",
    "        found.add(address)\n",
    "for address in sorted(found):    \n",
    "    print(address)"
   ]
  },
  {
   "cell_type": "code",
   "execution_count": 25,
   "metadata": {},
   "outputs": [
    {
     "name": "stdout",
     "output_type": "stream",
     "text": [
      "Found\"ab from 0 to 2\"\n",
      "Found\"ab from 2 to 4\"\n",
      "Found\"ab from 4 to 6\"\n",
      "Found\"ab from 9 to 11\"\n",
      "Found\"ab from 14 to 16\"\n"
     ]
    }
   ],
   "source": [
    "import re\n",
    "text = 'abababbaaabbbaabb'\n",
    "pattern = 'ab'\n",
    "match = re.search(pattern, text)\n",
    "\n",
    "s = match.start()\n",
    "e = match.end()\n",
    "\n",
    "for match in re.finditer(pattern, text):\n",
    "    print('Found\"%s from %d to %d\"'%(match.re.pattern, match.start(), match.end()))"
   ]
  },
  {
   "cell_type": "code",
   "execution_count": 5,
   "metadata": {},
   "outputs": [
    {
     "name": "stdout",
     "output_type": "stream",
     "text": [
      "Found \"this\"\n",
      " in \"Does this text match the pattern?\"\n",
      "from 5 to 9 (\"this\")\n"
     ]
    }
   ],
   "source": [
    "import re\n",
    "\n",
    "pattern = 'this'\n",
    "text = \"Does this text match the pattern?\"\n",
    "match = re.search(pattern, text)\n",
    "\n",
    "s = match.start()\n",
    "e = match.end()\n",
    "\n",
    "print('Found \"%s\"\\n in \"%s\"\\nfrom %d to %d (\"%s\")' % (match.re.pattern, match.string, s, e, text[s:e]))"
   ]
  },
  {
   "cell_type": "code",
   "execution_count": 26,
   "metadata": {},
   "outputs": [
    {
     "name": "stdout",
     "output_type": "stream",
     "text": [
      "Text: 'Does this text match that pattern?'\n",
      "\n",
      "Seeking 'this' ->match!\n",
      "Seeking 'that' ->match!\n"
     ]
    }
   ],
   "source": [
    "import re\n",
    "\n",
    "regexes = [re.compile(p)\n",
    "          for p in [\"this\",\"that\"]]\n",
    "\n",
    "text = \"Does this text match that pattern?\"\n",
    "print('Text: %r\\n'%text)\n",
    "for regex in regexes:\n",
    "    print(\"Seeking '%s' ->\"%regex.pattern, end=\"\")\n",
    "    if regex.search(text):\n",
    "        print('match!')\n",
    "    else:\n",
    "        print('no match')\n",
    "        \n",
    "\n",
    "#굉장히 중요하다. "
   ]
  },
  {
   "cell_type": "code",
   "execution_count": null,
   "metadata": {},
   "outputs": [],
   "source": []
  }
 ],
 "metadata": {
  "kernelspec": {
   "display_name": "Python 3",
   "language": "python",
   "name": "python3"
  },
  "language_info": {
   "codemirror_mode": {
    "name": "ipython",
    "version": 3
   },
   "file_extension": ".py",
   "mimetype": "text/x-python",
   "name": "python",
   "nbconvert_exporter": "python",
   "pygments_lexer": "ipython3",
   "version": "3.7.6"
  }
 },
 "nbformat": 4,
 "nbformat_minor": 4
}
