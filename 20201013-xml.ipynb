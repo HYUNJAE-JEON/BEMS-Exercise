{
 "cells": [
  {
   "cell_type": "code",
   "execution_count": 2,
   "metadata": {},
   "outputs": [
    {
     "data": {
      "text/plain": [
       "<Element 'data' at 0x000002450CDF1408>"
      ]
     },
     "execution_count": 2,
     "metadata": {},
     "output_type": "execute_result"
    }
   ],
   "source": [
    "import xml.etree.ElementTree as ET\n",
    "doc = ET.parse('countrydata.xml')\n",
    "root = doc.getroot()\n",
    "root"
   ]
  },
  {
   "cell_type": "code",
   "execution_count": 3,
   "metadata": {},
   "outputs": [
    {
     "data": {
      "text/plain": [
       "<Element 'country' at 0x000002450CDF1458>"
      ]
     },
     "execution_count": 3,
     "metadata": {},
     "output_type": "execute_result"
    }
   ],
   "source": [
    "country_tag = root.find(\"country\")\n",
    "country_tag\n",
    "#리히텐슈테인 나라만 찾은 것이다.\n",
    "#.find는 첫번째 태그를 찾는 것이고 findall은 모든 태그를 찾는 것이다."
   ]
  },
  {
   "cell_type": "code",
   "execution_count": 4,
   "metadata": {},
   "outputs": [
    {
     "data": {
      "text/plain": [
       "[<Element 'country' at 0x000002450CDF1458>,\n",
       " <Element 'country' at 0x000002450CDF1638>,\n",
       " <Element 'country' at 0x000002450CDF17C8>]"
      ]
     },
     "execution_count": 4,
     "metadata": {},
     "output_type": "execute_result"
    }
   ],
   "source": [
    "country_tags = root.findall(\"country\")\n",
    "country_tags\n",
    "#세 개의 나라 전부 찾은 것이다."
   ]
  },
  {
   "cell_type": "code",
   "execution_count": 5,
   "metadata": {},
   "outputs": [
    {
     "data": {
      "text/plain": [
       "'\\n        '"
      ]
     },
     "execution_count": 5,
     "metadata": {},
     "output_type": "execute_result"
    }
   ],
   "source": [
    "country_text = root.findtext(\"country\").text\n",
    "country_text\n",
    "#findtext는 첫번째 태그를 찾아서 리턴하는 것이다."
   ]
  },
  {
   "cell_type": "code",
   "execution_count": 6,
   "metadata": {},
   "outputs": [
    {
     "data": {
      "text/plain": [
       "[]"
      ]
     },
     "execution_count": 6,
     "metadata": {},
     "output_type": "execute_result"
    }
   ],
   "source": [
    "year_tags = root.findall(\"year\")\n",
    "year_tags"
   ]
  },
  {
   "cell_type": "code",
   "execution_count": 8,
   "metadata": {
    "collapsed": true
   },
   "outputs": [
    {
     "name": "stdout",
     "output_type": "stream",
     "text": [
      "{'name': 'Austria', 'direction': 'E'}\n",
      "{'name': 'Switzerland', 'direction': 'W'}\n",
      "{'name': 'Malaysia', 'direction': 'N'}\n",
      "{'name': 'Costa Rica', 'direction': 'W'}\n",
      "{'name': 'Colombia', 'direction': 'E'}\n"
     ]
    }
   ],
   "source": [
    "for ne in root.iter(\"neighbor\"):\n",
    "    print(ne.attrib)\n",
    "    \n",
    "    #이렇게 돌아다니면서 찾는 걸 파싱한다고 하는 것이다."
   ]
  },
  {
   "cell_type": "code",
   "execution_count": 10,
   "metadata": {
    "collapsed": true
   },
   "outputs": [
    {
     "name": "stdout",
     "output_type": "stream",
     "text": [
      "country\n",
      "country\n",
      "country\n"
     ]
    }
   ],
   "source": [
    "for country in root.iter(\"country\"):\n",
    "    print(country.tag)"
   ]
  },
  {
   "cell_type": "code",
   "execution_count": null,
   "metadata": {},
   "outputs": [],
   "source": []
  },
  {
   "cell_type": "code",
   "execution_count": 11,
   "metadata": {
    "collapsed": true
   },
   "outputs": [
    {
     "name": "stdout",
     "output_type": "stream",
     "text": [
      "============================================================\n",
      "Country:  Liechtenstein\n",
      "Rank:  1\n",
      "Year:  2008\n",
      "Neighbor :  {'name': 'Austria', 'direction': 'E'}\n",
      "Neighbor :  {'name': 'Switzerland', 'direction': 'W'}\n",
      "============================================================\n",
      "Country:  Singapore\n",
      "Rank:  4\n",
      "Year:  2011\n",
      "Neighbor :  {'name': 'Malaysia', 'direction': 'N'}\n",
      "============================================================\n",
      "Country:  Panama\n",
      "Rank:  68\n",
      "Year:  2011\n",
      "Neighbor :  {'name': 'Costa Rica', 'direction': 'W'}\n",
      "Neighbor :  {'name': 'Colombia', 'direction': 'E'}\n"
     ]
    }
   ],
   "source": [
    "# 내용 출력\n",
    "\n",
    "for country in root.iter(\"country\"):\n",
    "    print(\"=\"*60)\n",
    "    print(\"Country: \", country.attrib[\"name\"])\n",
    "    print(\"Rank: \", country.findtext(\"rank\"))\n",
    "    print(\"Year: \", country.findtext(\"year\"))\n",
    "    for neighbor in country.iter(\"neighbor\"):\n",
    "        print(\"Neighbor : \", neighbor.attrib)\n",
    "        \n",
    "        #속성은 대괄호로 접근해주어야한다. 키 값에 접근하듯이"
   ]
  },
  {
   "cell_type": "code",
   "execution_count": 12,
   "metadata": {
    "collapsed": true
   },
   "outputs": [
    {
     "name": "stdout",
     "output_type": "stream",
     "text": [
      "<data>\n",
      "    <country name=\"Liechtenstein\">\n",
      "        <rank updated=\"yes\">2</rank>\n",
      "        <year>2008</year>\n",
      "        <gdppc>141100</gdppc>\n",
      "        <neighbor direction=\"E\" name=\"Austria\" />\n",
      "        <neighbor direction=\"W\" name=\"Switzerland\" />\n",
      "    </country>\n",
      "    <country name=\"Singapore\">\n",
      "        <rank updated=\"yes\">5</rank>\n",
      "        <year>2011</year>\n",
      "        <gdppc>59900</gdppc>\n",
      "        <neighbor direction=\"N\" name=\"Malaysia\" />\n",
      "    </country>\n",
      "    <country name=\"Panama\">\n",
      "        <rank updated=\"yes\">69</rank>\n",
      "        <year>2011</year>\n",
      "        <gdppc>13600</gdppc>\n",
      "        <neighbor direction=\"W\" name=\"Costa Rica\" />\n",
      "        <neighbor direction=\"E\" name=\"Colombia\" />\n",
      "    </country>\n",
      "</data>\n"
     ]
    }
   ],
   "source": [
    "# 내용 수정\n",
    "\n",
    "for rank in root.iter(\"rank\"):\n",
    "    new_rank = int(rank.text) + 1\n",
    "    rank.text = str(new_rank)\n",
    "    rank.attrib[\"updated\"] = \"yes\"\n",
    "    rank.set(\"updated\", \"yes\")\n",
    "ET.dump(root)"
   ]
  },
  {
   "cell_type": "code",
   "execution_count": 13,
   "metadata": {
    "collapsed": true
   },
   "outputs": [
    {
     "name": "stdout",
     "output_type": "stream",
     "text": [
      "<data>\n",
      "    <country name=\"Liechtenstein\">\n",
      "        <rank updated=\"yes\">2</rank>\n",
      "        <year>2008</year>\n",
      "        <gdppc>141100</gdppc>\n",
      "        <neighbor direction=\"E\" name=\"Austria\" />\n",
      "        <neighbor direction=\"W\" name=\"Switzerland\" />\n",
      "    </country>\n",
      "    <country name=\"Singapore\">\n",
      "        <rank updated=\"yes\">5</rank>\n",
      "        <year>2011</year>\n",
      "        <gdppc>59900</gdppc>\n",
      "        <neighbor direction=\"N\" name=\"Malaysia\" />\n",
      "    </country>\n",
      "    </data>\n"
     ]
    }
   ],
   "source": [
    "# 내용 지우기\n",
    "\n",
    "for country in root.findall('country'):\n",
    "    rank = int(country.find('rank').text)\n",
    "    if rank > 50:\n",
    "        root.remove(country)\n",
    "\n",
    "ET.dump(root)"
   ]
  },
  {
   "cell_type": "code",
   "execution_count": 17,
   "metadata": {},
   "outputs": [
    {
     "name": "stdout",
     "output_type": "stream",
     "text": [
      "<data>\n",
      "    <country name=\"Liechtenstein\">\n",
      "        <rank updated=\"yes\">2</rank>\n",
      "        <year>2008</year>\n",
      "        <gdppc>141100</gdppc>\n",
      "        <neighbor direction=\"E\" name=\"Austria\" />\n",
      "        <neighbor direction=\"W\" name=\"Switzerland\" />\n",
      "    <last_updated>2020-10-13 15:52:01.949313</last_updated><last_updated /><last_updated>2020-10-13 15:57:22.573076</last_updated></country>\n",
      "    <country name=\"Singapore\">\n",
      "        <rank updated=\"yes\">5</rank>\n",
      "        <year>2011</year>\n",
      "        <gdppc>59900</gdppc>\n",
      "        <neighbor direction=\"N\" name=\"Malaysia\" />\n",
      "    <last_updated>2020-10-13 15:52:01.949313</last_updated><last_updated>2020-10-13 15:57:22.573076</last_updated></country>\n",
      "    </data>\n"
     ]
    }
   ],
   "source": [
    "# 내용 추가\n",
    "\n",
    "from datetime import datetime\n",
    "# for country in root.iter('country'):\n",
    "#     e = datetime.now()\n",
    "#     last_updated = ET.Element(\"last_updated\")\n",
    "#     last_updated.text = str(e)\n",
    "#     country.append(last_updated)\n",
    "\n",
    "for country in root.findall('country'):\n",
    "    e = datetime.now()\n",
    "    last_updated = ET.SubElement(country, \"last_updated\")\n",
    "    last_updated.text = str(e)\n",
    "    \n",
    "\n",
    "ET.dump(root)"
   ]
  },
  {
   "cell_type": "code",
   "execution_count": 21,
   "metadata": {},
   "outputs": [
    {
     "name": "stdout",
     "output_type": "stream",
     "text": [
      "<data>\n",
      " <country name=\"Liechtenstein\">\n",
      "  <rank updated=\"yes\">2</rank>\n",
      "  <year>2008</year>\n",
      "  <gdppc>141100</gdppc>\n",
      "  <neighbor direction=\"E\" name=\"Austria\" />\n",
      "  <neighbor direction=\"W\" name=\"Switzerland\" />\n",
      "  <last_updated>2020-10-13 15:52:01.949313</last_updated>\n",
      "  <last_updated />\n",
      "  <last_updated>2020-10-13 15:57:22.573076</last_updated>\n",
      " </country>\n",
      " <country name=\"Singapore\">\n",
      "  <rank updated=\"yes\">5</rank>\n",
      "  <year>2011</year>\n",
      "  <gdppc>59900</gdppc>\n",
      "  <neighbor direction=\"N\" name=\"Malaysia\" />\n",
      "  <last_updated>2020-10-13 15:52:01.949313</last_updated>\n",
      "  <last_updated>2020-10-13 15:57:22.573076</last_updated>\n",
      " </country>\n",
      "</data>\n"
     ]
    }
   ],
   "source": [
    "def auto_indent(elem, level = 0):\n",
    "    indent = \"\\n\" + level * \" \"\n",
    "    if len(elem):\n",
    "        if not elem.text or not elem.text.strip():\n",
    "            elem.text = indent + \" \"\n",
    "        if not elem.tail or not elem.tail.strip():\n",
    "            elem.tail = indent\n",
    "        for elem in elem:\n",
    "            auto_indent(elem, level+1)\n",
    "        if not elem.tail or not elem.tail.strip():\n",
    "            elem.tail = indent\n",
    "    else:\n",
    "        if level and (not elem.tail or not elem.tail.strip()):\n",
    "            elem.tail = indent\n",
    "            \n",
    "auto_indent(root)\n",
    "ET.dump(root)"
   ]
  },
  {
   "cell_type": "code",
   "execution_count": 22,
   "metadata": {},
   "outputs": [],
   "source": [
    "doc.write(\"output.xml\", encoding=\"utf-8\",xml_declaration=True)"
   ]
  },
  {
   "cell_type": "code",
   "execution_count": null,
   "metadata": {},
   "outputs": [],
   "source": [
    "#일련의 과정을 crud - create, read, update, delete 라고 부른다."
   ]
  }
 ],
 "metadata": {
  "kernelspec": {
   "display_name": "Python 3",
   "language": "python",
   "name": "python3"
  },
  "language_info": {
   "codemirror_mode": {
    "name": "ipython",
    "version": 3
   },
   "file_extension": ".py",
   "mimetype": "text/x-python",
   "name": "python",
   "nbconvert_exporter": "python",
   "pygments_lexer": "ipython3",
   "version": "3.7.6"
  }
 },
 "nbformat": 4,
 "nbformat_minor": 4
}
