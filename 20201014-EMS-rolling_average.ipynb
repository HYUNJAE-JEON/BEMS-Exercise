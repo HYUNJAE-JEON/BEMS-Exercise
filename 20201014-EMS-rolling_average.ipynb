{
 "cells": [
  {
   "cell_type": "code",
   "execution_count": 5,
   "metadata": {},
   "outputs": [
    {
     "name": "stderr",
     "output_type": "stream",
     "text": [
      "C:\\Users\\user\\anaconda3\\lib\\site-packages\\ipykernel_launcher.py:10: FutureWarning: arrays to stack must be passed as a \"sequence\" type such as list or tuple. Support for non-sequence iterables such as generators is deprecated as of NumPy 1.16 and will raise an error in the future.\n",
      "  # Remove the CWD from sys.path while we load stuff.\n"
     ]
    },
    {
     "data": {
      "text/plain": [
       "8"
      ]
     },
     "execution_count": 5,
     "metadata": {},
     "output_type": "execute_result"
    }
   ],
   "source": [
    "import numpy as np\n",
    "from numpy.lib.stride_tricks import as_strided\n",
    "n = 5; k=2\n",
    "a = np.linspace(1, n, n); aid = id(a)\n",
    "as_strided(a,(k,n),(8,8))\n",
    "as_strided(a,(k,n-k+1), (8,8))\n",
    "# 간격이 균등한 것이 linspace\n",
    "# k는 이동평균의 상수값이다.\n",
    "\n",
    "def shift1(x,k):\n",
    "    return np.vstack(x[i:n-k+i+1] for i in range(k))\n",
    "def shift2(x,k):\n",
    "    return as_strided(x, (k, n-k+1), (x.itemsize,)*2)\n",
    "b = shift1(a, k); b, id(b) == aid\n",
    "c = shift2(a, k); c, id(c) == aid\n",
    "\n",
    "a.itemsize\n"
   ]
  },
  {
   "cell_type": "code",
   "execution_count": 11,
   "metadata": {},
   "outputs": [
    {
     "name": "stdout",
     "output_type": "stream",
     "text": [
      "(10, 91)\n"
     ]
    },
    {
     "name": "stderr",
     "output_type": "stream",
     "text": [
      "C:\\Users\\user\\anaconda3\\lib\\site-packages\\ipykernel_launcher.py:10: FutureWarning: arrays to stack must be passed as a \"sequence\" type such as list or tuple. Support for non-sequence iterables such as generators is deprecated as of NumPy 1.16 and will raise an error in the future.\n",
      "  # Remove the CWD from sys.path while we load stuff.\n"
     ]
    },
    {
     "name": "stdout",
     "output_type": "stream",
     "text": [
      "24.2 µs ± 1.57 µs per loop (mean ± std. dev. of 7 runs, 10000 loops each)\n"
     ]
    }
   ],
   "source": [
    "n, k = 100, 10\n",
    "t = np.linspace(0., 1., n)\n",
    "x = t + 0.1 * np.random.randn(n)\n",
    "#평균이 0인 정규분포를 만든다.\n",
    "y = shift2(x,k)\n",
    "print(y.shape)\n",
    "x_avg = y.mean(axis=0)\n",
    "x_avg\n",
    "\n",
    "#91개의 데이터가 나오는데 첫 9개는 이동평균이 안나오기 때문이다.\n",
    "# % 붙은 키워드는 매직키워드라고 주피터에서만 쓸 수 있다.\n",
    "\n",
    "%timeit shift1(x,k)"
   ]
  },
  {
   "cell_type": "code",
   "execution_count": 13,
   "metadata": {},
   "outputs": [
    {
     "name": "stdout",
     "output_type": "stream",
     "text": [
      "8.3 µs ± 1.71 µs per loop (mean ± std. dev. of 7 runs, 100000 loops each)\n"
     ]
    }
   ],
   "source": [
    "%timeit shift2(x,k)"
   ]
  },
  {
   "cell_type": "code",
   "execution_count": 16,
   "metadata": {},
   "outputs": [
    {
     "name": "stderr",
     "output_type": "stream",
     "text": [
      "C:\\Users\\user\\anaconda3\\lib\\site-packages\\ipykernel_launcher.py:10: FutureWarning: arrays to stack must be passed as a \"sequence\" type such as list or tuple. Support for non-sequence iterables such as generators is deprecated as of NumPy 1.16 and will raise an error in the future.\n",
      "  # Remove the CWD from sys.path while we load stuff.\n"
     ]
    },
    {
     "name": "stdout",
     "output_type": "stream",
     "text": [
      "26.7 µs ± 2.47 µs per loop (mean ± std. dev. of 7 runs, 10000 loops each)\n"
     ]
    }
   ],
   "source": [
    "%%timeit \n",
    "y = shift1(x,k)"
   ]
  },
  {
   "cell_type": "code",
   "execution_count": 17,
   "metadata": {},
   "outputs": [
    {
     "name": "stdout",
     "output_type": "stream",
     "text": [
      "8.68 µs ± 1.01 µs per loop (mean ± std. dev. of 7 runs, 100000 loops each)\n"
     ]
    }
   ],
   "source": [
    "%%timeit \n",
    "y = shift2(x,k)"
   ]
  },
  {
   "cell_type": "code",
   "execution_count": 18,
   "metadata": {},
   "outputs": [
    {
     "name": "stdout",
     "output_type": "stream",
     "text": [
      "[1. 2. 3. 4. 5.]\n",
      "100 10 0\n",
      "100 10 1\n",
      "100 10 2\n",
      "100 10 3\n",
      "100 10 4\n",
      "100 10 5\n",
      "100 10 6\n",
      "100 10 7\n",
      "100 10 8\n",
      "100 10 9\n"
     ]
    }
   ],
   "source": [
    "print(a)\n",
    "for i in range(k):\n",
    "    print(n, k, i)"
   ]
  },
  {
   "cell_type": "code",
   "execution_count": 25,
   "metadata": {},
   "outputs": [
    {
     "name": "stdout",
     "output_type": "stream",
     "text": [
      "8\n",
      "25\n",
      "[[5.3 4.4 5.4]\n",
      " [4.4 5.4 5.8]\n",
      " [5.4 5.8 5.6]\n",
      " [5.8 5.6 4.8]\n",
      " [5.6 4.8 5.6]\n",
      " [4.8 5.6 5.6]\n",
      " [5.6 5.6 5.4]\n",
      " [5.6 5.4 6.5]\n",
      " [5.4 6.5 5.1]\n",
      " [6.5 5.1 5.8]\n",
      " [5.1 5.8 5. ]\n",
      " [5.8 5.  6.2]\n",
      " [5.  6.2 5.6]\n",
      " [6.2 5.6 6.7]\n",
      " [5.6 6.7 5.2]\n",
      " [6.7 5.2 5.5]\n",
      " [5.2 5.5 5.8]\n",
      " [5.5 5.8 5.1]\n",
      " [5.8 5.1 5.8]\n",
      " [5.1 5.8 6.7]\n",
      " [5.8 6.7 5.2]\n",
      " [6.7 5.2 6. ]\n",
      " [5.2 6.  5.8]]\n"
     ]
    },
    {
     "data": {
      "text/plain": [
       "array([5.03333333, 5.2       , 5.6       , 5.4       , 5.33333333,\n",
       "       5.33333333, 5.53333333, 5.83333333, 5.66666667, 5.8       ,\n",
       "       5.3       , 5.66666667, 5.6       , 6.16666667, 5.83333333,\n",
       "       5.8       , 5.5       , 5.46666667, 5.56666667, 5.86666667,\n",
       "       5.9       , 5.96666667, 5.66666667])"
      ]
     },
     "execution_count": 25,
     "metadata": {},
     "output_type": "execute_result"
    }
   ],
   "source": [
    "x = np.array([5.3, 4.4, 5.4, 5.8, 5.6, 4.8, 5.6, \n",
    "              5.6, 5.4, 6.5, 5.1, 5.8, 5,  6.2, \n",
    "              5.6, 6.7, 5.2, 5.5, 5.8, 5.1, 5.8, \n",
    "              6.7, 5.2, 6, 5.8])\n",
    "w = 3 #window size\n",
    "n = x.strides[0]\n",
    "print(n)\n",
    "print(x.size)\n",
    "#x의 사이즈를 물어보는 것이다. 25개가 나올 것이다. 숫자가 25개 있으니까\n",
    "s = as_strided(x, shape=(x.size-w+1,w), strides=(n,n))\n",
    "#x라는 배열을 23행 3열로 만든 뒤에 실수이기 때문에 8바이트짜리로 만든다. 행으로 이동해도 8바이트, 열로 이동해도 8바이트\n",
    "print(s)\n",
    "np.mean(s,1)\n",
    "#stride는 몇 바이트짜리인지 물어보는 것이다."
   ]
  },
  {
   "cell_type": "code",
   "execution_count": null,
   "metadata": {},
   "outputs": [],
   "source": []
  }
 ],
 "metadata": {
  "kernelspec": {
   "display_name": "Python 3",
   "language": "python",
   "name": "python3"
  },
  "language_info": {
   "codemirror_mode": {
    "name": "ipython",
    "version": 3
   },
   "file_extension": ".py",
   "mimetype": "text/x-python",
   "name": "python",
   "nbconvert_exporter": "python",
   "pygments_lexer": "ipython3",
   "version": "3.7.6"
  }
 },
 "nbformat": 4,
 "nbformat_minor": 4
}
