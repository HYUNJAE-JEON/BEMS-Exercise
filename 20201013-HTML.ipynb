{
 "cells": [
  {
   "cell_type": "code",
   "execution_count": 16,
   "metadata": {},
   "outputs": [
    {
     "data": {
      "text/plain": [
       "True"
      ]
     },
     "execution_count": 16,
     "metadata": {},
     "output_type": "execute_result"
    }
   ],
   "source": [
    "def doctype():\n",
    "    return '<!DOCTYPE html>'\n",
    "\n",
    "def title(titlestr):\n",
    "    return \"<html><head><title>\"+titlestr+\"</title></head>\"\n",
    "\n",
    "def body(bodystr):\n",
    "    return \"<body>\"+bodystr+\"</body></html>\"\n",
    "\n",
    "def makeHomepage(name, interest):\n",
    "    file=open(\"homepage.html\",\"wt\")\n",
    "    file.write(doctype())\n",
    "    file.write(title(name + \"'s Home Page\"))\n",
    "    file.write(body(\"\"\"\n",
    "    <h1>Welcome to \"\"\"+name+\"\"\"'s Home Page</h1>\n",
    "    <p>Hi! I am \"\"\"+name+\"\"\". This is my home page!\n",
    "    I am interested in \"\"\"+interest+\"\"\"</p>\"\"\"))\n",
    "    file.close()\n",
    "\n",
    "makeHomepage(\"현재\", \"드라이브\")\n",
    "import webbrowser as wb\n",
    "wb.open(\"homepage.html\")\n",
    "               \n",
    "               \n",
    "# \"\"\"))\n",
    "#     file.write(\"\"\"<!DOCTYPE html>\n",
    "#     <html> <met a charset = \"utf-8\">\n",
    "#     <head>\n",
    "#     <title>\"\"\"+name+\"\"\"'s Home Page</title>\n",
    "#     </head>\n",
    "#     <body>"
   ]
  },
  {
   "cell_type": "code",
   "execution_count": 17,
   "metadata": {},
   "outputs": [
    {
     "ename": "FileNotFoundError",
     "evalue": "[Errno 2] No such file or directory: ',/samples.html'",
     "output_type": "error",
     "traceback": [
      "\u001b[1;31m---------------------------------------------------------------------------\u001b[0m",
      "\u001b[1;31mFileNotFoundError\u001b[0m                         Traceback (most recent call last)",
      "\u001b[1;32m<ipython-input-17-78b3f08c74f5>\u001b[0m in \u001b[0;36m<module>\u001b[1;34m\u001b[0m\n\u001b[0;32m     12\u001b[0m     \u001b[0msfile\u001b[0m\u001b[1;33m.\u001b[0m\u001b[0mclose\u001b[0m\u001b[1;33m(\u001b[0m\u001b[1;33m)\u001b[0m\u001b[1;33m\u001b[0m\u001b[1;33m\u001b[0m\u001b[0m\n\u001b[0;32m     13\u001b[0m \u001b[1;33m\u001b[0m\u001b[0m\n\u001b[1;32m---> 14\u001b[1;33m \u001b[0mmakeSamplePage\u001b[0m\u001b[1;33m(\u001b[0m\u001b[1;34m\",\"\u001b[0m\u001b[1;33m)\u001b[0m\u001b[1;33m\u001b[0m\u001b[1;33m\u001b[0m\u001b[0m\n\u001b[0m\u001b[0;32m     15\u001b[0m \u001b[0mwb\u001b[0m\u001b[1;33m.\u001b[0m\u001b[0mopen\u001b[0m\u001b[1;33m(\u001b[0m\u001b[1;34m\"samples.html\"\u001b[0m\u001b[1;33m)\u001b[0m\u001b[1;33m\u001b[0m\u001b[1;33m\u001b[0m\u001b[0m\n",
      "\u001b[1;32m<ipython-input-17-78b3f08c74f5>\u001b[0m in \u001b[0;36mmakeSamplePage\u001b[1;34m(directory)\u001b[0m\n\u001b[0;32m      1\u001b[0m \u001b[1;32mimport\u001b[0m \u001b[0mos\u001b[0m\u001b[1;33m\u001b[0m\u001b[1;33m\u001b[0m\u001b[0m\n\u001b[0;32m      2\u001b[0m \u001b[1;32mdef\u001b[0m \u001b[0mmakeSamplePage\u001b[0m\u001b[1;33m(\u001b[0m\u001b[0mdirectory\u001b[0m\u001b[1;33m)\u001b[0m\u001b[1;33m:\u001b[0m\u001b[1;33m\u001b[0m\u001b[1;33m\u001b[0m\u001b[0m\n\u001b[1;32m----> 3\u001b[1;33m     \u001b[0msfile\u001b[0m \u001b[1;33m=\u001b[0m \u001b[0mopen\u001b[0m\u001b[1;33m(\u001b[0m\u001b[0mdirectory\u001b[0m\u001b[1;33m+\u001b[0m\u001b[1;34m\"/samples.html\"\u001b[0m\u001b[1;33m,\u001b[0m\u001b[1;34m\"wt\"\u001b[0m\u001b[1;33m)\u001b[0m\u001b[1;33m\u001b[0m\u001b[1;33m\u001b[0m\u001b[0m\n\u001b[0m\u001b[0;32m      4\u001b[0m     \u001b[0msfile\u001b[0m\u001b[1;33m.\u001b[0m\u001b[0mwrite\u001b[0m\u001b[1;33m(\u001b[0m\u001b[0mdoctype\u001b[0m\u001b[1;33m(\u001b[0m\u001b[1;33m)\u001b[0m\u001b[1;33m)\u001b[0m\u001b[1;33m\u001b[0m\u001b[1;33m\u001b[0m\u001b[0m\n\u001b[0;32m      5\u001b[0m     \u001b[0msfile\u001b[0m\u001b[1;33m.\u001b[0m\u001b[0mwrite\u001b[0m\u001b[1;33m(\u001b[0m\u001b[0mtitle\u001b[0m\u001b[1;33m(\u001b[0m\u001b[1;34m\"Samples from \"\u001b[0m \u001b[1;33m+\u001b[0m \u001b[0mdirectory\u001b[0m\u001b[1;33m)\u001b[0m\u001b[1;33m)\u001b[0m\u001b[1;33m\u001b[0m\u001b[1;33m\u001b[0m\u001b[0m\n",
      "\u001b[1;31mFileNotFoundError\u001b[0m: [Errno 2] No such file or directory: ',/samples.html'"
     ]
    }
   ],
   "source": [
    "import os\n",
    "def makeSamplePage(directory):\n",
    "    sfile = open(directory+\"/samples.html\",\"wt\")\n",
    "    sfile.write(doctype())\n",
    "    sfile.write(title(\"Samples from \" + directory))\n",
    "    samples = \"<h1>Samples from \"+directory+\"</h1>\"\n",
    "    for file in os.listdir(directory):\n",
    "        if file.endswith(\".jpg\"):\n",
    "            samples=samples+\"<p>Filename: \"+file\n",
    "            samples=samples+'<image src=\"'+file+'\"height=\"100\"</p>'\n",
    "    sfile.write(body(samples))\n",
    "    sfile.close()\n",
    "    \n",
    "makeSamplePage(\",\")\n",
    "wb.open(\"samples.html\")"
   ]
  },
  {
   "cell_type": "code",
   "execution_count": null,
   "metadata": {},
   "outputs": [],
   "source": []
  }
 ],
 "metadata": {
  "kernelspec": {
   "display_name": "Python 3",
   "language": "python",
   "name": "python3"
  },
  "language_info": {
   "codemirror_mode": {
    "name": "ipython",
    "version": 3
   },
   "file_extension": ".py",
   "mimetype": "text/x-python",
   "name": "python",
   "nbconvert_exporter": "python",
   "pygments_lexer": "ipython3",
   "version": "3.7.6"
  }
 },
 "nbformat": 4,
 "nbformat_minor": 4
}
