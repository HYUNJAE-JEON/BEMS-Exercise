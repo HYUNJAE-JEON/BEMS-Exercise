{
 "cells": [
  {
   "cell_type": "code",
   "execution_count": 1,
   "metadata": {},
   "outputs": [
    {
     "data": {
      "text/plain": [
       "True"
      ]
     },
     "execution_count": 1,
     "metadata": {},
     "output_type": "execute_result"
    }
   ],
   "source": [
    "def doctype():\n",
    "    return '<!DOCTYPE html>'\n",
    "\n",
    "def title(titlestr):\n",
    "    return \"<html><head><title>\"+titlestr+\"</title></head>\"\n",
    "\n",
    "def body(bodystr):\n",
    "    return \"<body>\"+bodystr+\"</body></html>\"\n",
    "\n",
    "def makeHomepage(name, interest):\n",
    "    file=open(\"homepage.html\",\"wt\")\n",
    "    file.write(doctype())\n",
    "    file.write(title(name + \"'s Home Page\"))\n",
    "    file.write(body(\"\"\"\n",
    "    <h1>Welcome to \"\"\"+name+\"\"\"'s Home Page</h1>\n",
    "    <p>Hi! I am \"\"\"+name+\"\"\". This is my home page!\n",
    "    I am interested in \"\"\"+interest+\"\"\"</p>\"\"\"))\n",
    "    file.close()\n",
    "\n",
    "makeHomepage(\"현재\", \"드라이브\")\n",
    "import webbrowser as wb\n",
    "wb.open(\"homepage.html\")\n",
    "               \n",
    "               \n",
    "# \"\"\"))\n",
    "#     file.write(\"\"\"<!DOCTYPE html>\n",
    "#     <html> <met a charset = \"utf-8\">\n",
    "#     <head>\n",
    "#     <title>\"\"\"+name+\"\"\"'s Home Page</title>\n",
    "#     </head>\n",
    "#     <body>"
   ]
  },
  {
   "cell_type": "code",
   "execution_count": 2,
   "metadata": {},
   "outputs": [
    {
     "data": {
      "text/plain": [
       "True"
      ]
     },
     "execution_count": 2,
     "metadata": {},
     "output_type": "execute_result"
    }
   ],
   "source": [
    "import os\n",
    "def makeSamplePage(directory):\n",
    "    sfile = open(directory+\"/samples.html\",\"wt\")\n",
    "    sfile.write(doctype())\n",
    "    sfile.write(title(\"Samples from \" + directory))\n",
    "    samples = \"<h1>Samples from \"+directory+\"</h1>\"\n",
    "    for file in os.listdir(directory):\n",
    "        if file.endswith(\".jpg\"):\n",
    "            samples=samples+\"<p>Filename: \"+file\n",
    "            samples=samples+'<image src=\"'+file+'\"height=\"100\"</p>'\n",
    "    sfile.write(body(samples))\n",
    "    sfile.close()\n",
    "    \n",
    "makeSamplePage(\".\")\n",
    "wb.open(\"samples.html\")"
   ]
  },
  {
   "cell_type": "code",
   "execution_count": 3,
   "metadata": {},
   "outputs": [
    {
     "ename": "NameError",
     "evalue": "name 'Myclass' is not defined",
     "output_type": "error",
     "traceback": [
      "\u001b[1;31m---------------------------------------------------------------------------\u001b[0m",
      "\u001b[1;31mNameError\u001b[0m                                 Traceback (most recent call last)",
      "\u001b[1;32m<ipython-input-3-708ba7d781a5>\u001b[0m in \u001b[0;36m<module>\u001b[1;34m\u001b[0m\n\u001b[0;32m      6\u001b[0m             \u001b[1;32mreturn\u001b[0m \u001b[1;34m\"hello world\"\u001b[0m\u001b[1;33m\u001b[0m\u001b[1;33m\u001b[0m\u001b[0m\n\u001b[0;32m      7\u001b[0m         \u001b[0mprint\u001b[0m\u001b[1;33m(\u001b[0m\u001b[0mMyclass\u001b[0m\u001b[1;33m.\u001b[0m\u001b[0m_Myclass__i\u001b[0m\u001b[1;33m)\u001b[0m\u001b[1;33m\u001b[0m\u001b[1;33m\u001b[0m\u001b[0m\n\u001b[1;32m----> 8\u001b[1;33m \u001b[0mMyclass\u001b[0m\u001b[1;33m.\u001b[0m\u001b[0mf\u001b[0m\u001b[1;33m(\u001b[0m\u001b[1;33m)\u001b[0m\u001b[1;33m\u001b[0m\u001b[1;33m\u001b[0m\u001b[0m\n\u001b[0m",
      "\u001b[1;31mNameError\u001b[0m: name 'Myclass' is not defined"
     ]
    }
   ],
   "source": [
    "def Mymyclass():\n",
    "    class Myclass:\n",
    "        \"A simple example class\"\n",
    "        __i = 123\n",
    "        def f(self):\n",
    "            return \"hello world\"\n",
    "        print(Myclass._Myclass__i)"
   ]
  },
  {
   "cell_type": "code",
   "execution_count": null,
   "metadata": {},
   "outputs": [],
   "source": []
  }
 ],
 "metadata": {
  "kernelspec": {
   "display_name": "Python 3",
   "language": "python",
   "name": "python3"
  }
 },
 "nbformat": 4,
 "nbformat_minor": 4
}
