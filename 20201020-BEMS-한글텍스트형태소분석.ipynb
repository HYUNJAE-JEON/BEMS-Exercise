{
 "cells": [
  {
   "cell_type": "code",
   "execution_count": 1,
   "metadata": {},
   "outputs": [
    {
     "data": {
      "text/html": [
       "<div>\n",
       "<style scoped>\n",
       "    .dataframe tbody tr th:only-of-type {\n",
       "        vertical-align: middle;\n",
       "    }\n",
       "\n",
       "    .dataframe tbody tr th {\n",
       "        vertical-align: top;\n",
       "    }\n",
       "\n",
       "    .dataframe thead th {\n",
       "        text-align: right;\n",
       "    }\n",
       "</style>\n",
       "<table border=\"1\" class=\"dataframe\">\n",
       "  <thead>\n",
       "    <tr style=\"text-align: right;\">\n",
       "      <th></th>\n",
       "      <th>id</th>\n",
       "      <th>document</th>\n",
       "      <th>label</th>\n",
       "    </tr>\n",
       "  </thead>\n",
       "  <tbody>\n",
       "    <tr>\n",
       "      <th>0</th>\n",
       "      <td>6270596</td>\n",
       "      <td>굳 ㅋ</td>\n",
       "      <td>1</td>\n",
       "    </tr>\n",
       "    <tr>\n",
       "      <th>1</th>\n",
       "      <td>9274899</td>\n",
       "      <td>GDNTOPCLASSINTHECLUB</td>\n",
       "      <td>0</td>\n",
       "    </tr>\n",
       "    <tr>\n",
       "      <th>2</th>\n",
       "      <td>8544678</td>\n",
       "      <td>뭐야 이 평점들은.... 나쁘진 않지만 10점 짜리는 더더욱 아니잖아</td>\n",
       "      <td>0</td>\n",
       "    </tr>\n",
       "    <tr>\n",
       "      <th>3</th>\n",
       "      <td>6825595</td>\n",
       "      <td>지루하지는 않은데 완전 막장임... 돈주고 보기에는....</td>\n",
       "      <td>0</td>\n",
       "    </tr>\n",
       "    <tr>\n",
       "      <th>4</th>\n",
       "      <td>6723715</td>\n",
       "      <td>3D만 아니었어도 별 다섯 개 줬을텐데.. 왜 3D로 나와서 제 심기를 불편하게 하죠??</td>\n",
       "      <td>0</td>\n",
       "    </tr>\n",
       "  </tbody>\n",
       "</table>\n",
       "</div>"
      ],
      "text/plain": [
       "        id                                           document  label\n",
       "0  6270596                                                굳 ㅋ      1\n",
       "1  9274899                               GDNTOPCLASSINTHECLUB      0\n",
       "2  8544678             뭐야 이 평점들은.... 나쁘진 않지만 10점 짜리는 더더욱 아니잖아      0\n",
       "3  6825595                   지루하지는 않은데 완전 막장임... 돈주고 보기에는....      0\n",
       "4  6723715  3D만 아니었어도 별 다섯 개 줬을텐데.. 왜 3D로 나와서 제 심기를 불편하게 하죠??      0"
      ]
     },
     "execution_count": 1,
     "metadata": {},
     "output_type": "execute_result"
    }
   ],
   "source": [
    "import pandas as pd\n",
    "from konlpy.utils import pprint\n",
    "korean_review_df = pd.read_csv(\"ratings_test.txt\", header=0, delimiter=\"\\t\", quoting=3, encoding=\"utf-8\")\n",
    "#header는 column값이다.\n",
    "len(korean_review_df)\n",
    "korean_review_df[:5]\n",
    "# konlpy 가 한국어 처리 \n",
    "# pandas read로 파일 들고오고 \n",
    "# 데이터 개수 확인"
   ]
  },
  {
   "cell_type": "code",
   "execution_count": 2,
   "metadata": {},
   "outputs": [
    {
     "name": "stderr",
     "output_type": "stream",
     "text": [
      "C:\\Users\\user\\anaconda3\\lib\\site-packages\\konlpy\\tag\\_okt.py:16: UserWarning: \"Twitter\" has changed to \"Okt\" since KoNLPy v0.4.5.\n",
      "  warn('\"Twitter\" has changed to \"Okt\" since KoNLPy v0.4.5.')\n"
     ]
    },
    {
     "name": "stdout",
     "output_type": "stream",
     "text": [
      "[('마늘', 'Noun'),\n",
      " ('치킨', 'Noun'),\n",
      " ('이', 'Josa'),\n",
      " ('먹다', 'Verb'),\n",
      " ('ㅋㅋ', 'KoreanParticle'),\n",
      " ('치킨', 'Noun'),\n",
      " ('사랑', 'Noun'),\n",
      " ('하다', 'Verb'),\n",
      " ('~', 'Punctuation')]\n"
     ]
    }
   ],
   "source": [
    "from konlpy.tag import Twitter\n",
    "twi_tagger = Twitter()\n",
    "temp_sen = u\"마늘치킨이 먹고싶닼ㅋㅋ 치킨 사랑해~\"\n",
    "pprint(twi_tagger.pos(temp_sen, norm=True, stem=True))\n",
    "#pos는 품사, stem 어근 추출\n",
    "# 품사 붙여주는 게 pos, stemize는 정ㄱ화를 해주는 것. 과거형, 미래형의 어근만 추출해서 동일한 형태로 출력\n",
    "#먹고싶다 -> 먹다 로 추출해주는게 stem\n",
    "\n"
   ]
  },
  {
   "cell_type": "code",
   "execution_count": 3,
   "metadata": {},
   "outputs": [
    {
     "name": "stdout",
     "output_type": "stream",
     "text": [
      "[('지루하다', 'Adjective'),\n",
      " ('않다', 'Verb'),\n",
      " ('완전', 'Noun'),\n",
      " ('막장', 'Noun'),\n",
      " ('임', 'Noun'),\n",
      " ('...', 'Punctuation'),\n",
      " ('돈', 'Noun'),\n",
      " ('주다', 'Verb'),\n",
      " ('보기', 'Noun'),\n",
      " ('에는', 'Josa'),\n",
      " ('....', 'Punctuation')]\n"
     ]
    }
   ],
   "source": [
    "words_temp = twi_tagger.pos(korean_review_df[\"document\"][3], norm=True, stem=True)\n",
    "pprint(words_temp)"
   ]
  },
  {
   "cell_type": "code",
   "execution_count": 4,
   "metadata": {},
   "outputs": [],
   "source": [
    "# import nltk\n",
    "# nltk.download()"
   ]
  },
  {
   "cell_type": "code",
   "execution_count": 5,
   "metadata": {},
   "outputs": [
    {
     "data": {
      "text/plain": [
       "<nltk.tokenize.punkt.PunktSentenceTokenizer at 0x2ebfa0d4a08>"
      ]
     },
     "execution_count": 5,
     "metadata": {},
     "output_type": "execute_result"
    }
   ],
   "source": [
    "import nltk\n",
    "tokenizer = nltk.data.load('tokenizers/punkt/english.pickle')\n",
    "tokenizer\n"
   ]
  },
  {
   "cell_type": "code",
   "execution_count": 6,
   "metadata": {},
   "outputs": [],
   "source": [
    "from bs4 import BeautifulSoup\n",
    "import re\n",
    "from nltk.corpus import stopwords\n",
    "def tokenizer_twit(doc):\n",
    "    return ['/'.join(t) for t in twi_tagger.pos(doc, norm=True, stem=True)]\n",
    "\n",
    "# [(\"치킨\",\"None\")]\n",
    "# -->('치킨/None')\n",
    "#이렇게 바꿔주는 게 tokenizer 함수이다. 품사를 슬러시로 붙여준다. "
   ]
  },
  {
   "cell_type": "code",
   "execution_count": 8,
   "metadata": {},
   "outputs": [
    {
     "name": "stdout",
     "output_type": "stream",
     "text": [
      "review_num : 5000\n",
      "review_num : 10000\n",
      "review_num : 15000\n",
      "review_num : 20000\n",
      "review_num : 25000\n",
      "review_num : 30000\n",
      "review_num : 35000\n",
      "review_num : 40000\n",
      "review_num : 45000\n"
     ]
    },
    {
     "name": "stderr",
     "output_type": "stream",
     "text": [
      "C:\\Users\\user\\anaconda3\\lib\\site-packages\\bs4\\__init__.py:219: UserWarning: \"b'\\xeb\\xad\\x90\\xec\\xa7\\x80 \\xec\\x9d\\xb4\\xec\\x98\\x81\\xed\\x99\\x94\\xeb\\x8a\\x94.../..'\" looks like a filename, not markup. You should probably open this file and pass the filehandle into Beautiful Soup.\n",
      "  ' Beautiful Soup.' % markup)\n"
     ]
    },
    {
     "name": "stdout",
     "output_type": "stream",
     "text": [
      "review_num : 50000\n"
     ]
    }
   ],
   "source": [
    "def review_to_wordlist(review):\n",
    "    try:\n",
    "        review_text = BeautifulSoup(str(review).strip(), 'html.parser').get_text()\n",
    "# 공백 제거는 strip 이다. 깨끗하게 정리하면서 가져오는 것이 get_text이다.\n",
    "#BeautifulSoup의 get text를 쓰면 불필요한 공백이나 이런 걸 다 없애준다. 두번쨰 문자열을 html.parser로 하겠다. \n",
    "#리뷰로 가져올 때 실수로 가져오는 걸 방지하기 위해 str로 감싼 것이다.\n",
    "\n",
    "    except AttributeError as e:\n",
    "        print( e)\n",
    "        review_text = \"\"\n",
    "    review_words = tokenizer_twit(review_text)\n",
    "    return review_words\n",
    "words = []\n",
    "review_num=0\n",
    "for review in korean_review_df[\"document\"]:\n",
    "    words += review_to_wordlist(review)\n",
    "    review_num += 1\n",
    "    if review_num%5000 == 0:\n",
    "        print(\"review_num : %d\" % (review_num))\n",
    "        "
   ]
  },
  {
   "cell_type": "code",
   "execution_count": 9,
   "metadata": {},
   "outputs": [
    {
     "data": {
      "text/plain": [
       "723303"
      ]
     },
     "execution_count": 9,
     "metadata": {},
     "output_type": "execute_result"
    }
   ],
   "source": [
    "len(words)"
   ]
  },
  {
   "cell_type": "code",
   "execution_count": 10,
   "metadata": {},
   "outputs": [
    {
     "name": "stdout",
     "output_type": "stream",
     "text": [
      "[('./Punctuation', 22620),\n",
      " ('영화/Noun', 17328),\n",
      " ('하다/Verb', 13750),\n",
      " ('이/Josa', 13105),\n",
      " ('보다/Verb', 12840),\n",
      " ('의/Josa', 10147),\n",
      " ('../Punctuation', 9590),\n",
      " ('에/Josa', 9044),\n",
      " ('가/Josa', 8892),\n",
      " ('.../Punctuation', 7716)]\n"
     ]
    }
   ],
   "source": [
    "import nltk\n",
    "words_nltk = nltk.Text(words, name='words in movie reviews')\n",
    "pprint(words_nltk.vocab().most_common(10))"
   ]
  },
  {
   "cell_type": "code",
   "execution_count": 12,
   "metadata": {},
   "outputs": [],
   "source": [
    "import matplotlib\n",
    "matplotlib.rc('font',family=\"HYGOTHIC-Medium\")"
   ]
  },
  {
   "cell_type": "code",
   "execution_count": 13,
   "metadata": {},
   "outputs": [
    {
     "data": {
      "image/png": "[encoded data removed]",
      "text/plain": [
       "<Figure size 432x288 with 1 Axes>"
      ]
     },
     "metadata": {
      "needs_background": "light"
     },
     "output_type": "display_data"
    }
   ],
   "source": [
    "%matplotlib inline\n",
    "words_nltk.plot(40)"
   ]
  },
  {
   "cell_type": "code",
   "execution_count": 15,
   "metadata": {},
   "outputs": [
    {
     "name": "stdout",
     "output_type": "stream",
     "text": [
      "['굳다/Adjective',\n",
      " 'ㅋ/KoreanParticle',\n",
      " '뭐/Noun',\n",
      " '이/Noun',\n",
      " '평점/Noun',\n",
      " '나쁘다/Adjective',\n",
      " '않다/Verb',\n",
      " '점/Noun',\n",
      " '짜다/Verb',\n",
      " '리/Noun']\n",
      "[('영화/Noun', 17328),\n",
      " ('하다/Verb', 13750),\n",
      " ('보다/Verb', 12840),\n",
      " ('없다/Adjective', 5319),\n",
      " ('있다/Adjective', 4146),\n",
      " ('좋다/Adjective', 4034),\n",
      " ('너무/Adverb', 3735),\n",
      " ('재밌다/Adjective', 3489),\n",
      " ('정말/Noun', 3201),\n",
      " ('것/Noun', 3176)]\n"
     ]
    },
    {
     "data": {
      "image/png": "[encoded data removed]",
      "text/plain": [
       "<Figure size 432x288 with 1 Axes>"
      ]
     },
     "metadata": {
      "needs_background": "light"
     },
     "output_type": "display_data"
    }
   ],
   "source": [
    "###품사 중 명사, 동사, 형용사, 부사, 감탄사만 추출\n",
    "Non_Stop_Words = [\"Noun\", \"Verb\", \"Adjective\", \"Adverb\", \"Exclamation\", \"KoreanParticle\"]\n",
    "words_new = [w for w in words if w.split(\"/\")[-1] in Non_Stop_Words]\n",
    "pprint(words_new[:10])\n",
    "words_nltk_new = nltk.Text(words_new, name=\"new words in movie reviews\")\n",
    "pprint(words_nltk_new.vocab().most_common(10))\n",
    "words_nltk_new.plot(40)"
   ]
  },
  {
   "cell_type": "code",
   "execution_count": null,
   "metadata": {},
   "outputs": [],
   "source": []
  }
 ],
 "metadata": {
  "kernelspec": {
   "display_name": "Python 3",
   "language": "python",
   "name": "python3"
  },
  "language_info": {
   "codemirror_mode": {
    "name": "ipython",
    "version": 3
   },
   "file_extension": ".py",
   "mimetype": "text/x-python",
   "name": "python",
   "nbconvert_exporter": "python",
   "pygments_lexer": "ipython3",
   "version": "3.7.6"
  }
 },
 "nbformat": 4,
 "nbformat_minor": 4
}
